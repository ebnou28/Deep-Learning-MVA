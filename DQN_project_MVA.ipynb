{
 "cells": [
  {
   "cell_type": "markdown",
   "metadata": {},
   "source": [
    "## Elmoustapha EBNOU MVA 2018-2019"
   ]
  },
  {
   "cell_type": "markdown",
   "metadata": {},
   "source": [
    "**You may need to install [OpenCV](https://pypi.python.org/pypi/opencv-python) and [scikit-video](http://www.scikit-video.org/stable/).**"
   ]
  },
  {
   "cell_type": "code",
   "execution_count": 1,
   "metadata": {},
   "outputs": [
    {
     "name": "stderr",
     "output_type": "stream",
     "text": [
      "/anaconda3/lib/python3.6/site-packages/h5py/__init__.py:36: FutureWarning: Conversion of the second argument of issubdtype from `float` to `np.floating` is deprecated. In future, it will be treated as `np.float64 == np.dtype(float).type`.\n",
      "  from ._conv import register_converters as _register_converters\n",
      "Using TensorFlow backend.\n"
     ]
    },
    {
     "name": "stdout",
     "output_type": "stream",
     "text": [
      "tf.estimator package not installed.\n"
     ]
    }
   ],
   "source": [
    "import keras\n",
    "import numpy as np\n",
    "import io\n",
    "import base64\n",
    "from IPython.display import HTML\n",
    "import skvideo.io\n",
    "import cv2\n",
    "import json\n",
    "\n",
    "from keras.models import Sequential,model_from_json\n",
    "from keras.layers.core import Dense\n",
    "from keras.optimizers import sgd , adam\n",
    "from keras.layers import Conv2D, MaxPooling2D, Activation, AveragePooling2D,Flatten,Reshape,BatchNormalization"
   ]
  },
  {
   "cell_type": "markdown",
   "metadata": {},
   "source": [
    "# MiniProject #3: Deep Reinforcement Learning"
   ]
  },
  {
   "cell_type": "markdown",
   "metadata": {},
   "source": [
    "__Notations__: $E_p$ is the expectation under probability $p$. Please justify each of your answer and widely comment your code."
   ]
  },
  {
   "cell_type": "markdown",
   "metadata": {},
   "source": [
    "# Context"
   ]
  },
  {
   "cell_type": "markdown",
   "metadata": {},
   "source": [
    "In a reinforcement learning algorithm, we modelize each step $t$ as an action $a_t$ obtained from a state $s_t$, i.e. $\\{(a_{t},s_{t})_{t\\leq T}\\}$ having the Markov property. We consider a discount factor $\\gamma \\in [0,1]$ that ensures convergence. The goal is to find among all the policies $\\pi$, one that maximizes the expected reward:\n",
    "\n",
    "\\begin{equation*}\n",
    "R(\\pi)=\\sum_{t\\leq T}E_{p^{\\pi}}[\\gamma^t r(s_{t},a_{t})] \\> ,\n",
    "\\end{equation*}\n",
    "\n",
    "where: \n",
    "\\begin{equation*}p^{\\pi}(a_{0},a_{1},s_{1},...,a_{T},s_{T})=p(a_{0})\\prod_{t=1}^{T}\\pi(a_{t}|s_{t})p(s_{t+1}|s_{t},a_{t}) \\> .\n",
    "\\end{equation*}\n",
    "\n",
    "We note the $Q$-function:\n",
    "\n",
    "\\begin{equation*}Q^\\pi(s,a)=E_{p^{\\pi}}[\\sum_{t\\leq T}\\gamma^{t}r(s_{t},a_{t})|s_{0}=s,a_{0}=a] \\> .\n",
    "\\end{equation*}\n",
    "\n",
    "Thus, the optimal Q function is:\n",
    "\\begin{equation*}\n",
    "Q^*(s,a)=\\max_{\\pi}Q^\\pi(s,a) \\> .\n",
    "\\end{equation*}\n",
    "\n",
    "In this project, we will apply the deep reinforcement learning techniques to a simple game: an agent will have to learn from scratch a policy that will permit it maximizing a reward."
   ]
  },
  {
   "cell_type": "markdown",
   "metadata": {},
   "source": [
    "## The environment, the agent and the game"
   ]
  },
  {
   "cell_type": "markdown",
   "metadata": {},
   "source": [
    "### The environment"
   ]
  },
  {
   "cell_type": "markdown",
   "metadata": {},
   "source": [
    "```Environment``` is an abstract class that represents the states, rewards, and actions to obtain the new state."
   ]
  },
  {
   "cell_type": "code",
   "execution_count": 2,
   "metadata": {},
   "outputs": [],
   "source": [
    "class Environment(object):\n",
    "    def __init__(self):\n",
    "        pass\n",
    "\n",
    "    def act(self, act):\n",
    "        \"\"\"\n",
    "        One can act on the environment and obtain its reaction:\n",
    "        - the new state\n",
    "        - the reward of the new state\n",
    "        - should we continue the game?\n",
    "\n",
    "        :return: state, reward, game_over\n",
    "        \"\"\"\n",
    "        pass\n",
    "\n",
    "\n",
    "    def reset(self):\n",
    "        \"\"\"\n",
    "        Reinitialize the environment to a random state and returns\n",
    "        the original state\n",
    "\n",
    "        :return: state\n",
    "        \"\"\"\n",
    "        pass\n",
    "    \n",
    "    def draw(self):\n",
    "        \"\"\"\n",
    "        Visualize in the console or graphically the current state\n",
    "        \"\"\"\n",
    "        pass"
   ]
  },
  {
   "cell_type": "markdown",
   "metadata": {},
   "source": [
    "The method ```act``` allows to act on the environment at a given state $s_t$ (stored internally), via action $a_t$. The method will return the new state $s_{t+1}$, the reward $r(s_{t},a_{t})$ and determines if $t\\leq T$ (*game_over*).\n",
    "\n",
    "The method ```reset``` simply reinitializes the environment to a random state $s_0$.\n",
    "\n",
    "The method ```draw``` displays the current state $s_t$ (this is useful to check the behavior of the Agent).\n",
    "\n",
    "We modelize $s_t$ as a tensor, while $a_t$ is an integer."
   ]
  },
  {
   "cell_type": "markdown",
   "metadata": {},
   "source": [
    "### The Agent"
   ]
  },
  {
   "cell_type": "markdown",
   "metadata": {},
   "source": [
    "The goal of the ```Agent``` is to interact with the ```Environment``` by proposing actions $a_t$ obtained from a given state $s_t$ to attempt to maximize its __reward__ $r(s_t,a_t)$. We propose the following abstract class:"
   ]
  },
  {
   "cell_type": "code",
   "execution_count": 3,
   "metadata": {},
   "outputs": [],
   "source": [
    "class Agent(object):\n",
    "    def __init__(self, epsilon=0.1, n_action=4):\n",
    "        self.epsilon = epsilon\n",
    "        self.n_action = n_action\n",
    "    \n",
    "    def set_epsilon(self,e):\n",
    "        self.epsilon = e\n",
    "\n",
    "    def act(self,s,train=True):\n",
    "        \"\"\" This function should return the next action to do:\n",
    "        an integer between 0 and 4 (not included) with a random exploration of epsilon\"\"\"\n",
    "        if train:\n",
    "            if np.random.rand() <= self.epsilon:\n",
    "                a = np.random.randint(0, self.n_action, size=1)[0]\n",
    "            else:\n",
    "                a = self.learned_act(s)\n",
    "        else: # in some cases, this can improve the performance.. remove it if poor performances\n",
    "            a = self.learned_act(s)\n",
    "\n",
    "        return a\n",
    "\n",
    "    def learned_act(self,s):\n",
    "        \"\"\" Act via the policy of the agent, from a given state s\n",
    "        it proposes an action a\"\"\"\n",
    "        pass\n",
    "\n",
    "    def reinforce(self, s, n_s, a, r, game_over_):\n",
    "        \"\"\" This function is the core of the learning algorithm. \n",
    "        It takes as an input the current state s_, the next state n_s_\n",
    "        the action a_ used to move from s_ to n_s_ and the reward r_.\n",
    "        \n",
    "        Its goal is to learn a policy.\n",
    "        \"\"\"\n",
    "        pass\n",
    "\n",
    "    def save(self):\n",
    "        \"\"\" This function returns basic stats if applicable: the\n",
    "        loss and/or the model\"\"\"\n",
    "        pass\n",
    "\n",
    "    def load(self):\n",
    "        \"\"\" This function allows to restore a model\"\"\"\n",
    "        pass"
   ]
  },
  {
   "cell_type": "markdown",
   "metadata": {},
   "source": [
    "***\n",
    "__Question 1__:\n",
    "Explain the function act. Why is ```epsilon``` essential?"
   ]
  },
  {
   "cell_type": "markdown",
   "metadata": {},
   "source": [
    "The function act tries to respect the exploration exploitation trade-off, and so with probability $\\epsilon$ a random action is performed (exploration) and with with probability $ 1 - \\epsilon$ it exploits its knowledge and this by returning the greedy-policy action (exploitation). The rate $\\epsilon$ determines how much each of the two tasks exploration/exploitation is performed."
   ]
  },
  {
   "cell_type": "markdown",
   "metadata": {},
   "source": [
    "***\n",
    "### The Game"
   ]
  },
  {
   "cell_type": "markdown",
   "metadata": {},
   "source": [
    "The ```Agent``` and the ```Environment``` work in an interlaced way as in the following (take some time to understand this code as it is the core of the project)\n",
    "\n",
    "```python\n",
    "\n",
    "epoch = 300\n",
    "env = Environment()\n",
    "agent = Agent()\n",
    "\n",
    "\n",
    "# Number of won games\n",
    "score = 0\n",
    "loss = 0\n",
    "\n",
    "\n",
    "for e in range(epoch):\n",
    "    # At each epoch, we restart to a fresh game and get the initial state\n",
    "    state = env.reset()\n",
    "    # This assumes that the games will end\n",
    "    game_over = False\n",
    "\n",
    "    win = 0\n",
    "    lose = 0\n",
    "    \n",
    "    while not game_over:\n",
    "        # The agent performs an action\n",
    "        action = agent.act(state)\n",
    "\n",
    "        # Apply an action to the environment, get the next state, the reward\n",
    "        # and if the games end\n",
    "        prev_state = state\n",
    "        state, reward, game_over = env.act(action)\n",
    "\n",
    "        # Update the counters\n",
    "        if reward > 0:\n",
    "            win = win + reward\n",
    "        if reward < 0:\n",
    "            lose = lose -reward\n",
    "\n",
    "        # Apply the reinforcement strategy\n",
    "        loss = agent.reinforce(prev_state, state,  action, reward, game_over)\n",
    "\n",
    "    # Save as a mp4\n",
    "    if e % 10 == 0:\n",
    "        env.draw(e)\n",
    "\n",
    "    # Update stats\n",
    "    score += win-lose\n",
    "\n",
    "    print(\"Epoch {:03d}/{:03d} | Loss {:.4f} | Win/lose count {}/{} ({})\"\n",
    "          .format(e, epoch, loss, win, lose, win-lose))\n",
    "    agent.save()\n",
    "```"
   ]
  },
  {
   "cell_type": "markdown",
   "metadata": {},
   "source": [
    "# The game, *eat cheese*"
   ]
  },
  {
   "cell_type": "markdown",
   "metadata": {},
   "source": [
    "A rat runs on an island and tries to eat as much as possible. The island is subdivided into $N\\times N$ cells, in which there are cheese (+0.5) and poisonous cells (-1). The rat has a visibility of 2 cells (thus it can see $5^2$ cells). The rat is given a time $T$ to accumulate as much food as possible. It can perform 4 actions: going up, down, left, right. \n",
    "\n",
    "The goal is to code an agent to solve this task that will learn by trial and error. We propose the following environment:"
   ]
  },
  {
   "cell_type": "code",
   "execution_count": 4,
   "metadata": {},
   "outputs": [],
   "source": [
    "class Environment(object):\n",
    "    def __init__(self, grid_size=10, max_time=500, temperature=0.1):\n",
    "        grid_size = grid_size+4\n",
    "        self.grid_size = grid_size\n",
    "        self.max_time = max_time\n",
    "        self.temperature = temperature\n",
    "\n",
    "        #board on which one plays\n",
    "        self.board = np.zeros((grid_size,grid_size))\n",
    "        self.position = np.zeros((grid_size,grid_size))\n",
    "\n",
    "        # coordinate of the cat\n",
    "        self.x = 0\n",
    "        self.y = 1\n",
    "\n",
    "        # self time\n",
    "        self.t = 0\n",
    "\n",
    "        self.scale=16\n",
    "\n",
    "        self.to_draw = np.zeros((max_time+2, grid_size*self.scale, grid_size*self.scale, 3))\n",
    "\n",
    "\n",
    "    def draw(self,e):\n",
    "        skvideo.io.vwrite(str(e) + '.mp4', self.to_draw)\n",
    "\n",
    "    def get_frame(self,t):\n",
    "        b = np.zeros((self.grid_size,self.grid_size,3))+128\n",
    "        b[self.board>0,0] = 256\n",
    "        b[self.board < 0, 2] = 256\n",
    "        b[self.x,self.y,:]=256\n",
    "        b[-2:,:,:]=0\n",
    "        b[:,-2:,:]=0\n",
    "        b[:2,:,:]=0\n",
    "        b[:,:2,:]=0\n",
    "        \n",
    "        b =  cv2.resize(b, None, fx=self.scale, fy=self.scale, interpolation=cv2.INTER_NEAREST)\n",
    "\n",
    "        self.to_draw[t,:,:,:]=b\n",
    "\n",
    "\n",
    "    def act(self, action):\n",
    "        \"\"\"This function returns the new state, reward and decides if the\n",
    "        game ends.\"\"\"\n",
    "\n",
    "        self.get_frame(int(self.t)) \n",
    "\n",
    "        self.position = np.zeros((self.grid_size, self.grid_size))\n",
    "\n",
    "        self.position[0:2,:]= -1\n",
    "        self.position[:,0:2] = -1\n",
    "        self.position[-2:, :] = -1\n",
    "        self.position[-2:, :] = -1\n",
    "\n",
    "        self.position[self.x, self.y] = 1\n",
    "        if action == 0:\n",
    "            if self.x == self.grid_size-3:\n",
    "                self.x = self.x-1\n",
    "            else:\n",
    "                self.x = self.x + 1\n",
    "        elif action == 1:\n",
    "            if self.x == 2:\n",
    "                self.x = self.x+1\n",
    "            else:\n",
    "                self.x = self.x-1\n",
    "        elif action == 2:\n",
    "            if self.y == self.grid_size - 3:\n",
    "                self.y = self.y - 1\n",
    "            else:\n",
    "                self.y = self.y + 1\n",
    "        elif action == 3:\n",
    "            if self.y == 2:\n",
    "                self.y = self.y + 1\n",
    "            else:\n",
    "                self.y = self.y - 1\n",
    "        else:\n",
    "            RuntimeError('Error: action not recognized')\n",
    "\n",
    "        self.t = self.t + 1\n",
    "        reward = self.board[self.x, self.y]\n",
    "        self.board[self.x, self.y] = 0\n",
    "        game_over = self.t > self.max_time\n",
    "        state = np.concatenate((self.board.reshape(self.grid_size, self.grid_size,1),\n",
    "                        self.position.reshape(self.grid_size, self.grid_size,1)),axis=2)\n",
    "        state = state[self.x-2:self.x+3,self.y-2:self.y+3,:]\n",
    "\n",
    "        return state, reward, game_over\n",
    "\n",
    "    def reset(self):\n",
    "        \"\"\"This function resets the game and returns the initial state\"\"\"\n",
    "\n",
    "        self.x = np.random.randint(3, self.grid_size-3, size=1)[0]\n",
    "        self.y = np.random.randint(3, self.grid_size-3, size=1)[0]\n",
    "\n",
    "\n",
    "        bonus = 0.5*np.random.binomial(1,self.temperature,size=self.grid_size**2)\n",
    "        bonus = bonus.reshape(self.grid_size,self.grid_size)\n",
    "\n",
    "        malus = -1.0*np.random.binomial(1,self.temperature,size=self.grid_size**2)\n",
    "        malus = malus.reshape(self.grid_size, self.grid_size)\n",
    "\n",
    "        self.to_draw = np.zeros((self.max_time+2, self.grid_size*self.scale, self.grid_size*self.scale, 3))\n",
    "\n",
    "\n",
    "        malus[bonus>0]=0\n",
    "\n",
    "        self.board = bonus + malus\n",
    "\n",
    "        self.position = np.zeros((self.grid_size, self.grid_size))\n",
    "        self.position[0:2,:]= -1\n",
    "        self.position[:,0:2] = -1\n",
    "        self.position[-2:, :] = -1\n",
    "        self.position[-2:, :] = -1\n",
    "        self.board[self.x,self.y] = 0\n",
    "        self.t = 0\n",
    "\n",
    "        state = np.concatenate((\n",
    "                               self.board.reshape(self.grid_size, self.grid_size,1),\n",
    "                        self.position.reshape(self.grid_size, self.grid_size,1)),axis=2)\n",
    "\n",
    "        state = state[self.x - 2:self.x + 3, self.y - 2:self.y + 3, :]\n",
    "        return state"
   ]
  },
  {
   "cell_type": "markdown",
   "metadata": {},
   "source": [
    "The following elements are important because they correspond to the hyper parameters for this project:"
   ]
  },
  {
   "cell_type": "code",
   "execution_count": 5,
   "metadata": {},
   "outputs": [],
   "source": [
    "# parameters\n",
    "size = 13\n",
    "T=200\n",
    "temperature=0.3\n",
    "epochs_train=10 \n",
    "epochs_test=10 \n",
    "\n",
    "# display videos\n",
    "def display_videos(name):\n",
    "    video = io.open(name, 'r+b').read()\n",
    "    encoded = base64.b64encode(video)\n",
    "    return '''<video alt=\"test\" controls>\n",
    "                <source src=\"data:video/mp4;base64,{0}\" type=\"video/mp4\" />\n",
    "             </video>'''.format(encoded.decode('ascii'))"
   ]
  },
  {
   "cell_type": "markdown",
   "metadata": {},
   "source": [
    "__Question 2__ Explain the use of the arrays ```position``` and ```board```."
   ]
  },
  {
   "cell_type": "markdown",
   "metadata": {},
   "source": [
    "We use the array **position** in order for know where the rat is at and where it can goes (for instance the -1 means that these are places it can't go to). While the array **board** contains the rewards associated to each cell (to keep track of the rewards to receive at each cell)\n"
   ]
  },
  {
   "cell_type": "markdown",
   "metadata": {},
   "source": [
    "## Random Agent"
   ]
  },
  {
   "cell_type": "markdown",
   "metadata": {},
   "source": [
    "***\n",
    "__Question 3__ Implement a random Agent (only ```learned_act``` needs to be implemented):"
   ]
  },
  {
   "cell_type": "code",
   "execution_count": 6,
   "metadata": {},
   "outputs": [],
   "source": [
    "class RandomAgent(Agent):\n",
    "    def __init__(self):\n",
    "        super(RandomAgent, self).__init__()\n",
    "        \n",
    "\n",
    "    def learned_act(self, s):\n",
    "         return np.random.randint(0, self.n_action, size=1)[0]"
   ]
  },
  {
   "cell_type": "markdown",
   "metadata": {},
   "source": [
    "***\n",
    "***\n",
    "__Question 4__ Visualize the game moves. You need to fill in the following function for the evaluation:"
   ]
  },
  {
   "cell_type": "code",
   "execution_count": 7,
   "metadata": {},
   "outputs": [],
   "source": [
    "def test(agent,env,epochs,prefix=''):\n",
    "    # Number of won games\n",
    "    score = 0\n",
    "        \n",
    "    for e in range(epochs):\n",
    "        \n",
    "        ##### FILL IN HERE\n",
    "        # At each epoch, we restart to a fresh game and get the initial state\n",
    "        state = env.reset()\n",
    "        # This assumes that the games will end\n",
    "        game_over = False\n",
    "\n",
    "        win = 0\n",
    "        lose = 0\n",
    "\n",
    "        while not game_over:\n",
    "            # The agent performs an action\n",
    "            action = agent.act(state, train = False)\n",
    "\n",
    "            # Apply an action to the environment, get the next state, the reward\n",
    "            # and if the games end\n",
    "            prev_state = state\n",
    "            state, reward, game_over = env.act(action)\n",
    "\n",
    "            # Update the counters\n",
    "            if reward > 0:\n",
    "                win = win + reward\n",
    "            if reward < 0:\n",
    "                lose = lose -reward\n",
    "\n",
    "            # Apply the reinforcement strategy\n",
    "            #loss = agent.reinforce(prev_state, state,  action, reward, game_over)\n",
    "\n",
    "        \n",
    "        # Save as a mp4\n",
    "        env.draw(prefix+str(e))\n",
    "\n",
    "        # Update stats\n",
    "        score = score + win-lose\n",
    "\n",
    "        print(\"Win/lose count {}/{}. Average score ({})\"\n",
    "              .format(win, lose, score/(1+e)))\n",
    "    print('Final score: '+str(score/epochs))"
   ]
  },
  {
   "cell_type": "code",
   "execution_count": 8,
   "metadata": {},
   "outputs": [
    {
     "name": "stdout",
     "output_type": "stream",
     "text": [
      "Win/lose count 5.0/5.0. Average score (0.0)\n",
      "Win/lose count 10.0/14.0. Average score (-2.0)\n",
      "Win/lose count 13.5/23.0. Average score (-4.5)\n",
      "Win/lose count 12.5/12.0. Average score (-3.25)\n",
      "Win/lose count 14.0/13.0. Average score (-2.4)\n",
      "Win/lose count 12.0/16.0. Average score (-2.6666666666666665)\n",
      "Win/lose count 9.0/22.0. Average score (-4.142857142857143)\n",
      "Win/lose count 10.5/19.0. Average score (-4.6875)\n",
      "Win/lose count 5.5/13.0. Average score (-5.0)\n",
      "Win/lose count 10.5/13.0. Average score (-4.75)\n",
      "Final score: -4.75\n"
     ]
    },
    {
     "data": {
      "text/html": [
       "<video alt=\"test\" controls>\n",
       "                <source src=\"data:video/mp4;base64,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\" type=\"video/mp4\" />\n",
       "             </video>"
      ],
      "text/plain": [
       "<IPython.core.display.HTML object>"
      ]
     },
     "execution_count": 8,
     "metadata": {},
     "output_type": "execute_result"
    }
   ],
   "source": [
    "# Initialize the game\n",
    "env = Environment(grid_size=size, max_time=T,temperature=temperature)\n",
    "\n",
    "# Initialize the agent!\n",
    "agent = RandomAgent()\n",
    "\n",
    "test(agent,env,epochs_test,prefix='random')\n",
    "HTML(display_videos('random0.mp4'))"
   ]
  },
  {
   "cell_type": "markdown",
   "metadata": {},
   "source": [
    "***\n",
    "## DQN"
   ]
  },
  {
   "cell_type": "markdown",
   "metadata": {},
   "source": [
    "Let us assume here that $T=\\infty$.\n",
    "\n",
    "***\n",
    "__Question 5__ Let $\\pi$ be a policy, show that:\n",
    "\n",
    "\\begin{equation*}\n",
    "Q^{\\pi}(s,a)=E_{(s',a')\\sim p(.|s,a)}[r(s,a)+\\gamma Q^{\\pi}(s',a')]\n",
    "\\end{equation*}\n",
    "\n",
    "Then, show that for the optimal policy $\\pi^*$ (we assume its existence), the following holds: \n",
    "\n",
    "\\begin{equation*}\n",
    "Q^{*}(s,a)=E_{s'\\sim \\pi^*(.|s,a)}[r(s,a)+\\gamma\\max_{a'}Q^{*}(s',a')].\n",
    "\\end{equation*}\n",
    "Finally, deduce that a plausible objective is:\n",
    "\n",
    "\\begin{equation*}\n",
    "\\mathcal{L}(\\theta)=E_{s' \\sim \\pi^*(.|s,a)}\\Vert r+\\gamma\\max\\max_{a'}Q(s',a',\\theta)-Q(s,a,\\theta)\\Vert^{2}.\n",
    "\\end{equation*}\n",
    "\n",
    "\n"
   ]
  },
  {
   "cell_type": "markdown",
   "metadata": {},
   "source": [
    "# Proof\n",
    "\n",
    "We have by the definition of the state-action function :\n",
    "\n",
    "\\begin{align}\n",
    "Q^{\\pi}(s,a)&=E[ \\sum_{k=0}^{\\infty} \\gamma^k r_{t+k}|s_t = s, a_t = a] \\\\\n",
    "& = E[ r(s,a) + \\sum_{k=1}^{\\infty} \\gamma^k r_{t+k}|s_t = s, a_t = a] \\\\\n",
    "& =  r(s,a) + \\gamma E[E[\\sum_{k=0}^{\\infty}[\\gamma^k r_{t+1+k}|s_{t+1}=s',a_{t+1}=a']|s_t = s, a_t = a] \\\\\n",
    "& =  r(s,a) + \\gamma \\sum_{(s',a')}(p(s_{t+1}=s',a_{t+1}=a' |s_t = s, a_t = a )[E[\\sum_{k=0}^{\\infty}\\gamma^k r_{t+1+k}|s_{t+1}=s',a_{t+1}=a']\\\\\n",
    "& =  \\sum_{(s',a')} (p(s_{t+1}=s',a_{t+1}=a' |s_t = s, a_t = a ) r(s,a) + \\gamma \\sum_{(s',a')}(p(s_{t+1}=s',a_{t+1}=a' |s_t = s, a_t = a )E[\\sum_{k=0}^{\\infty}\\gamma^k r_{t+1+k}|s_{t+1}=s',a_{t+1}=a']\\\\\n",
    "&=E_{(s',a')\\sim p(.|s,a)}[r(s,a)+\\gamma Q^{\\pi}(s',a')]\n",
    "\\end{align}\n",
    "\n",
    "And the optimal state-action function is given by :\n",
    "\n",
    "\\begin{align}\n",
    "Q^{*}(s,a) &= \\max_{\\pi}E_{(s',a')\\sim p(.|s,a)}[r(s,a)+\\gamma Q^{\\pi}(s',a')] \\\\\n",
    "&= \\max_{\\pi}r(s,a) + \\gamma \\sum(p(s_{t+1}=s' |s_t = s, a_t = a )Q^{\\pi}(s',a')\\\\\n",
    "&= r(s,a) + \\gamma \\max_{\\pi} \\sum(p(s_{t+1}=s' |s_t = s, a_t = a )Q^{\\pi'}(s',a') \\qquad \\text{with } \\pi=(a',\\pi')\n",
    "\\end{align}\n",
    "\n",
    "In order to exchange the maximum and the sum one has to remark the following:\n",
    "We have first the trivial inequality\n",
    "\n",
    "We can intervert the max and the sum sign by noticing that :\n",
    "\n",
    "\\begin{equation*}\n",
    "\\max_{\\pi} \\sum_{(s')} p(s_{t+1}=s' |s_t = s, a_t = a )Q^{\\pi'}(s',a') \\leq \\sum_{(s',a')} p(s_{t+1}=s' |s_t = s, a_t = a ) \\max_{\\pi}Q^{\\pi'}(s',a') \n",
    "\\end{equation*}\n",
    "\n",
    "And given the fact that :  $\\hat{\\pi}(s',a') = \\arg\\max_{\\pi'} Q^{\\pi'}(s',a')$\n",
    "\\begin{align*}\n",
    " \\sum_{(s'} p(s_{t+1}=s'|s_t = s, a_t = a ) \\max_{\\pi'}Q^{\\pi'}(s',a') &= \\sum_{(s')} p(s_{t+1}=s' |s_t = s, a_t = a ) Q^{\\hat{\\pi}(s',a')}(s',a') \\\\\n",
    " &\\leq \\max_{\\pi'} \\sum_{s'} p(s_{t+1}=s' |s_t = s, a_t = a )Q^{\\pi'}(s',a') \n",
    "\\end{align*}\n",
    "\n",
    "So back to the expression of $Q^{*}$ :\n",
    "\\begin{align}\n",
    "Q^{*}(s,a)&= r(s,a) + \\gamma  \\sum(p(s_{t+1}=s' |s_t = s, a_t = a )\\max_{a'}\\max_{\\pi'}Q^{\\pi'}(s',a') \\\\\n",
    "&= r(s,a) + \\gamma \\sum(p(s_{t+1}=s' |s_t = s, a_t = a )\\max_{a'} Q^{*}(s',a') \\\\ \n",
    "&=E_{s'\\sim \\pi^*(.|s,a)}[r(s,a)+\\gamma\\max_{a'}Q^{*}(s',a')].\n",
    "\\end{align}\n",
    "\n",
    "In order to have a good training, we're looking for our learned $Q$ to be as close as possible to $Q{*}$ (Bellman optimal equation must holds) and so we can do this by considering this objective function : \n",
    "\n",
    "\\begin{equation*}\n",
    "\\mathcal{L}(\\theta)=E_{s' \\sim \\pi^*(.|s,a)}\\Vert r+\\gamma\\max_{a'}Q(s',a',\\theta)-Q(s,a,\\theta)\\Vert^{2}.\n",
    "\\end{equation*}\n",
    "\n",
    "\n"
   ]
  },
  {
   "cell_type": "markdown",
   "metadata": {},
   "source": [
    "***\n",
    "The DQN-learning algorithm relies on these derivations to train the parameters $\\theta$ of a Deep Neural Network:\n",
    "\n",
    "1. At the state $s_t$, select the action $a_t$ with best reward using $Q_t$ and store the results;\n",
    "\n",
    "2. Obtain the new state $s_{t+1}$ from the environment $p$;\n",
    "\n",
    "3. Store $(s_t,a_t,s_{t+1})$;\n",
    "\n",
    "4. Obtain $Q_{t+1}$ by minimizing  $\\mathcal{L}$ from a recovered batch from the previously stored results.\n",
    "\n",
    "***\n",
    "__Question 6__ Implement the class ```Memory``` that stores moves (in a replay buffer) via ```remember``` and provides a ```random_access``` to these. Specify a maximum memory size to avoid side effects. You can for example use a ```list()``` and set by default ```max_memory=100```."
   ]
  },
  {
   "cell_type": "code",
   "execution_count": 9,
   "metadata": {},
   "outputs": [],
   "source": [
    "class Memory(object):\n",
    "    def __init__(self, max_memory=100):\n",
    "        self.max_memory = max_memory\n",
    "        self.memory = list()\n",
    "\n",
    "    def remember(self, m):\n",
    "        if len(self.memory)<= self.max_memory:\n",
    "            self.memory.append(m)\n",
    "        else:\n",
    "            del self.memory[0]\n",
    "            self.memory.append(m)\n",
    "\n",
    "    def random_access(self):\n",
    "        return self.memory[np.random.randint(len(self.memory))]"
   ]
  },
  {
   "cell_type": "markdown",
   "metadata": {},
   "source": [
    "***\n",
    "The pipeline we will use for training is given below:"
   ]
  },
  {
   "cell_type": "code",
   "execution_count": 10,
   "metadata": {},
   "outputs": [],
   "source": [
    "def train(agent,env,epoch,prefix=''):\n",
    "    # Number of won games\n",
    "    score = 0\n",
    "    loss = 0\n",
    "\n",
    "    for e in range(epoch):\n",
    "        # At each epoch, we restart to a fresh game and get the initial state\n",
    "        state = env.reset()\n",
    "        # This assumes that the games will terminate\n",
    "        game_over = False\n",
    "\n",
    "        win = 0\n",
    "        lose = 0\n",
    "\n",
    "        while not game_over:\n",
    "            # The agent performs an action\n",
    "            action = agent.act(state)\n",
    "\n",
    "            # Apply an action to the environment, get the next state, the reward\n",
    "            # and if the games end\n",
    "            prev_state = state\n",
    "            state, reward, game_over = env.act(action)\n",
    "\n",
    "            # Update the counters\n",
    "            if reward > 0:\n",
    "                win = win + reward\n",
    "            if reward < 0:\n",
    "                lose = lose -reward\n",
    "\n",
    "            # Apply the reinforcement strategy\n",
    "            loss = agent.reinforce(prev_state, state,  action, reward, game_over)\n",
    "\n",
    "        # Save as a mp4\n",
    "        if e % 10 == 0:\n",
    "            env.draw(prefix+str(e))\n",
    "\n",
    "        # Update stats\n",
    "        score += win-lose\n",
    "\n",
    "        print(\"Epoch {:03d}/{:03d} | Loss {:.4f} | Win/lose count {}/{} ({})\"\n",
    "              .format(e, epoch, loss, win, lose, win-lose))\n",
    "        agent.save(name_weights=prefix+'model.h5',name_model=prefix+'model.json')\n",
    "        "
   ]
  },
  {
   "cell_type": "markdown",
   "metadata": {},
   "source": [
    "***\n",
    "__Question 7__ Implement the DQN training algorithm using a cascade of fully connected layers. You can use different learning rate, batch size or memory size parameters. In particular, the loss might oscillate while the player will start to win the games. You have to find a good criterium."
   ]
  },
  {
   "cell_type": "code",
   "execution_count": 11,
   "metadata": {},
   "outputs": [],
   "source": [
    "class DQN(Agent):\n",
    "    def __init__(self, grid_size,  epsilon = 0.1, memory_size=100, batch_size = 16,n_state=2):\n",
    "        super(DQN, self).__init__(epsilon = epsilon)\n",
    "\n",
    "        # Discount for Q learning\n",
    "        self.discount = 0.99\n",
    "        \n",
    "        self.grid_size = grid_size\n",
    "        \n",
    "        # number of state\n",
    "        self.n_state = n_state\n",
    "\n",
    "        # Memory\n",
    "        self.memory = Memory(memory_size)\n",
    "        \n",
    "        # Batch size when learning\n",
    "        self.batch_size = batch_size\n",
    "\n",
    "    def learned_act(self, s):\n",
    "        np.argmax(self.model.predict(s.reshape([1,s.shape[0],\\\n",
    "                                                s.shape[1],s.shape[2]]))[0,:])\n",
    "\n",
    "    def reinforce(self, s_, n_s_, a_, r_, game_over_):\n",
    "        # Two steps: first memorize the states, second learn from the pool\n",
    "\n",
    "        self.memory.remember([s_, n_s_, a_, r_, game_over_])\n",
    "        \n",
    "        input_states = np.zeros((self.batch_size, 5,5,self.n_state))\n",
    "        target_q = np.zeros((self.batch_size, 4))\n",
    "        \n",
    "        for i in range(self.batch_size):\n",
    "            s_, n_s_, a_, r_, game_over_ = self.memory.random_access()\n",
    "            \n",
    "            target_q [i] = self.model.predict(s_.reshape([1,s_.shape[0],s_.shape[1],\\\n",
    "                                                    s_.shape[2]]))[0]\n",
    "            \n",
    "            if game_over_:\n",
    "                input_states[i] = s_\n",
    "                target_q[i,a_] = r_\n",
    "            else:\n",
    "                input_states[i] = s_\n",
    "                target_q[i,a_] = r_ + self.discount*max(\\\n",
    "                                                        self.model.predict(n_s_.reshape([1,s_.shape[0],\\\n",
    "                                                                                         s_.shape[1],s_.shape[2]]))[0])                \n",
    "        # HINT: Clip the target to avoid exploiding gradients.. -- clipping is a bit tighter\n",
    "        target_q = np.clip(target_q, -3, 3)\n",
    "\n",
    "        l = self.model.train_on_batch(input_states, target_q)\n",
    "\n",
    "\n",
    "        return l\n",
    "\n",
    "    def save(self,name_weights='model.h5',name_model='model.json'):\n",
    "        self.model.save_weights(name_weights, overwrite=True)\n",
    "        with open(name_model, \"w\") as outfile:\n",
    "            json.dump(self.model.to_json(), outfile)\n",
    "            \n",
    "    def load(self,name_weights='model.h5',name_model='model.json'):\n",
    "        with open(name_model, \"r\") as jfile:\n",
    "            model = model_from_json(json.load(jfile))\n",
    "        model.load_weights(name_weights)\n",
    "        model.compile(\"sgd\", \"mse\")\n",
    "        self.model = model\n",
    "\n",
    "            \n",
    "class DQN_FC(DQN):\n",
    "    def __init__(self, *args, lr=0.1,**kwargs):\n",
    "        super(DQN_FC, self).__init__( *args,**kwargs)\n",
    "        \n",
    "        # NN Model\n",
    "        model = Sequential()\n",
    "        model.add(Flatten(input_shape=(5,5,self.n_state,)))\n",
    "        model.add(Dense(40, activation='relu'))\n",
    "        model.add(Dense(4)) #output an action from the 4 actions\n",
    "        \n",
    "        model.compile(sgd(lr=lr, decay=1e-4, momentum=0.0), \"mse\")\n",
    "        self.model = model\n",
    "        "
   ]
  },
  {
   "cell_type": "code",
   "execution_count": 29,
   "metadata": {},
   "outputs": [
    {
     "name": "stdout",
     "output_type": "stream",
     "text": [
      "Epoch 000/050 | Loss 0.0184 | Win/lose count 0.5/2.0 (-1.5)\n",
      "Epoch 001/050 | Loss 0.0109 | Win/lose count 0.5/6.0 (-5.5)\n",
      "Epoch 002/050 | Loss 0.0103 | Win/lose count 0.5/1.0 (-0.5)\n",
      "Epoch 003/050 | Loss 0.0077 | Win/lose count 0.5/2.0 (-1.5)\n",
      "Epoch 004/050 | Loss 0.0116 | Win/lose count 0.5/3.0 (-2.5)\n",
      "Epoch 005/050 | Loss 0.0088 | Win/lose count 1.5/4.0 (-2.5)\n",
      "Epoch 006/050 | Loss 0.0069 | Win/lose count 2.5/3.0 (-0.5)\n",
      "Epoch 007/050 | Loss 0.0060 | Win/lose count 1.5/3.0 (-1.5)\n",
      "Epoch 008/050 | Loss 0.3697 | Win/lose count 0.5/2.0 (-1.5)\n",
      "Epoch 009/050 | Loss 0.0122 | Win/lose count 1.0/3.0 (-2.0)\n",
      "Epoch 010/050 | Loss 0.0101 | Win/lose count 0/4.0 (-4.0)\n",
      "Epoch 011/050 | Loss 0.0141 | Win/lose count 1.0/3.0 (-2.0)\n",
      "Epoch 012/050 | Loss 0.0087 | Win/lose count 3.5/4.0 (-0.5)\n",
      "Epoch 013/050 | Loss 0.0066 | Win/lose count 1.5/2.0 (-0.5)\n",
      "Epoch 014/050 | Loss 0.0145 | Win/lose count 1.5/3.0 (-1.5)\n",
      "Epoch 015/050 | Loss 0.0043 | Win/lose count 2.0/2.0 (0.0)\n",
      "Epoch 016/050 | Loss 0.0064 | Win/lose count 2.5/2.0 (0.5)\n",
      "Epoch 017/050 | Loss 0.0050 | Win/lose count 2.0/2.0 (0.0)\n",
      "Epoch 018/050 | Loss 0.0077 | Win/lose count 2.0/1.0 (1.0)\n",
      "Epoch 019/050 | Loss 0.0032 | Win/lose count 0.5/5.0 (-4.5)\n",
      "Epoch 020/050 | Loss 0.0025 | Win/lose count 1.5/4.0 (-2.5)\n",
      "Epoch 021/050 | Loss 0.1663 | Win/lose count 0.5/6.0 (-5.5)\n",
      "Epoch 022/050 | Loss 0.0039 | Win/lose count 0/3.0 (-3.0)\n",
      "Epoch 023/050 | Loss 0.0157 | Win/lose count 1.0/1.0 (0.0)\n",
      "Epoch 024/050 | Loss 0.0058 | Win/lose count 1.0/4.0 (-3.0)\n",
      "Epoch 025/050 | Loss 0.0112 | Win/lose count 3.0/4.0 (-1.0)\n",
      "Epoch 026/050 | Loss 0.0465 | Win/lose count 2.0/3.0 (-1.0)\n",
      "Epoch 027/050 | Loss 0.0070 | Win/lose count 1.0/4.0 (-3.0)\n",
      "Epoch 028/050 | Loss 0.0104 | Win/lose count 1.5/3.0 (-1.5)\n",
      "Epoch 029/050 | Loss 0.0022 | Win/lose count 3.0/4.0 (-1.0)\n",
      "Epoch 030/050 | Loss 0.0160 | Win/lose count 3.0/2.0 (1.0)\n",
      "Epoch 031/050 | Loss 0.0045 | Win/lose count 1.0/2.0 (-1.0)\n",
      "Epoch 032/050 | Loss 0.0026 | Win/lose count 2.5/3.0 (-0.5)\n",
      "Epoch 033/050 | Loss 0.0074 | Win/lose count 1.5/5.0 (-3.5)\n",
      "Epoch 034/050 | Loss 0.0155 | Win/lose count 1.5/0 (1.5)\n",
      "Epoch 035/050 | Loss 0.1930 | Win/lose count 0.5/3.0 (-2.5)\n",
      "Epoch 036/050 | Loss 0.0013 | Win/lose count 1.5/4.0 (-2.5)\n",
      "Epoch 037/050 | Loss 0.0058 | Win/lose count 2.0/1.0 (1.0)\n",
      "Epoch 038/050 | Loss 0.0020 | Win/lose count 1.0/2.0 (-1.0)\n",
      "Epoch 039/050 | Loss 0.0016 | Win/lose count 2.0/3.0 (-1.0)\n",
      "Epoch 040/050 | Loss 0.0018 | Win/lose count 0.5/1.0 (-0.5)\n",
      "Epoch 041/050 | Loss 0.0237 | Win/lose count 2.5/2.0 (0.5)\n",
      "Epoch 042/050 | Loss 0.0116 | Win/lose count 2.5/6.0 (-3.5)\n",
      "Epoch 043/050 | Loss 0.0028 | Win/lose count 4.0/2.0 (2.0)\n",
      "Epoch 044/050 | Loss 0.2794 | Win/lose count 2.0/4.0 (-2.0)\n",
      "Epoch 045/050 | Loss 0.1423 | Win/lose count 1.5/4.0 (-2.5)\n",
      "Epoch 046/050 | Loss 0.0015 | Win/lose count 1.5/3.0 (-1.5)\n",
      "Epoch 047/050 | Loss 0.0053 | Win/lose count 0/1.0 (-1.0)\n",
      "Epoch 048/050 | Loss 0.0022 | Win/lose count 2.5/2.0 (0.5)\n",
      "Epoch 049/050 | Loss 0.0689 | Win/lose count 5.0/5.0 (0.0)\n"
     ]
    },
    {
     "data": {
      "text/html": [
       "<video alt=\"test\" controls>\n",
       "                <source src=\"data:video/mp4;base64,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\" type=\"video/mp4\" />\n",
       "             </video>"
      ],
      "text/plain": [
       "<IPython.core.display.HTML object>"
      ]
     },
     "execution_count": 29,
     "metadata": {},
     "output_type": "execute_result"
    }
   ],
   "source": [
    "epochs_train = 50\n",
    "env = Environment(grid_size=size, max_time=T, temperature=0.3)\n",
    "agent = DQN_FC(size, lr=.1, epsilon = 0.1, memory_size=2000, batch_size = 32)\n",
    "train(agent, env, epochs_train, prefix='fc_train')\n",
    "HTML(display_videos('fc_train0.mp4'))"
   ]
  },
  {
   "cell_type": "markdown",
   "metadata": {},
   "source": [
    "***\n",
    "***\n",
    "__Question 8__ Implement the DQN training algorithm using a CNN (for example, 2 convolutional layers and one final fully connected layer)."
   ]
  },
  {
   "cell_type": "code",
   "execution_count": 12,
   "metadata": {},
   "outputs": [],
   "source": [
    "class DQN_CNN(DQN):\n",
    "    def __init__(self, *args,lr=0.1,**kwargs):\n",
    "        super(DQN_CNN, self).__init__(*args,**kwargs)\n",
    "        \n",
    "        model = Sequential()\n",
    "        model.add(Conv2D(8,(3,3),input_shape=(5,5,self.n_state,),activation='relu'))\n",
    "        model.add(Conv2D(16,(2,2),activation='relu'))\n",
    "        model.add(Flatten())\n",
    "        model.add(Dense(4))\n",
    "        model.compile(adam(lr=lr, decay=1e-4), \"mse\")\n",
    "        self.model = model\n",
    "        "
   ]
  },
  {
   "cell_type": "code",
   "execution_count": 13,
   "metadata": {},
   "outputs": [
    {
     "name": "stdout",
     "output_type": "stream",
     "text": [
      "Epoch 000/050 | Loss 0.0025 | Win/lose count 1.5/2.0 (-0.5)\n",
      "Epoch 001/050 | Loss 0.0040 | Win/lose count 3.0/1.0 (2.0)\n",
      "Epoch 002/050 | Loss 0.0083 | Win/lose count 3.0/1.0 (2.0)\n",
      "Epoch 003/050 | Loss 0.0016 | Win/lose count 1.5/3.0 (-1.5)\n",
      "Epoch 004/050 | Loss 0.0039 | Win/lose count 1.0/0 (1.0)\n",
      "Epoch 005/050 | Loss 0.0093 | Win/lose count 2.0/1.0 (1.0)\n",
      "Epoch 006/050 | Loss 0.0001 | Win/lose count 3.5/3.0 (0.5)\n",
      "Epoch 007/050 | Loss 0.0076 | Win/lose count 1.0/2.0 (-1.0)\n",
      "Epoch 008/050 | Loss 0.0012 | Win/lose count 2.0/3.0 (-1.0)\n",
      "Epoch 009/050 | Loss 0.0001 | Win/lose count 2.5/2.0 (0.5)\n",
      "Epoch 010/050 | Loss 0.0095 | Win/lose count 4.0/3.0 (1.0)\n",
      "Epoch 011/050 | Loss 0.0002 | Win/lose count 1.5/3.0 (-1.5)\n",
      "Epoch 012/050 | Loss 0.0002 | Win/lose count 0.5/3.0 (-2.5)\n",
      "Epoch 013/050 | Loss 0.0139 | Win/lose count 1.0/5.0 (-4.0)\n",
      "Epoch 014/050 | Loss 0.0076 | Win/lose count 1.0/2.0 (-1.0)\n",
      "Epoch 015/050 | Loss 0.0390 | Win/lose count 0/3.0 (-3.0)\n",
      "Epoch 016/050 | Loss 0.0001 | Win/lose count 1.5/4.0 (-2.5)\n",
      "Epoch 017/050 | Loss 0.0005 | Win/lose count 0.5/0 (0.5)\n",
      "Epoch 018/050 | Loss 0.0077 | Win/lose count 2.0/2.0 (0.0)\n",
      "Epoch 019/050 | Loss 0.0138 | Win/lose count 1.5/1.0 (0.5)\n",
      "Epoch 020/050 | Loss 0.0083 | Win/lose count 2.5/2.0 (0.5)\n",
      "Epoch 021/050 | Loss 0.0000 | Win/lose count 2.0/1.0 (1.0)\n",
      "Epoch 022/050 | Loss 0.0000 | Win/lose count 2.5/2.0 (0.5)\n",
      "Epoch 023/050 | Loss 0.0123 | Win/lose count 2.0/4.0 (-2.0)\n",
      "Epoch 024/050 | Loss 0.0079 | Win/lose count 1.5/2.0 (-0.5)\n",
      "Epoch 025/050 | Loss 0.0024 | Win/lose count 1.5/2.0 (-0.5)\n",
      "Epoch 026/050 | Loss 0.0038 | Win/lose count 1.0/1.0 (0.0)\n",
      "Epoch 027/050 | Loss 0.0001 | Win/lose count 0/1.0 (-1.0)\n",
      "Epoch 028/050 | Loss 0.0117 | Win/lose count 1.5/1.0 (0.5)\n",
      "Epoch 029/050 | Loss 0.0268 | Win/lose count 2.0/2.0 (0.0)\n",
      "Epoch 030/050 | Loss 0.0084 | Win/lose count 2.5/4.0 (-1.5)\n",
      "Epoch 031/050 | Loss 0.0301 | Win/lose count 3.5/2.0 (1.5)\n",
      "Epoch 032/050 | Loss 0.0078 | Win/lose count 1.5/1.0 (0.5)\n",
      "Epoch 033/050 | Loss 0.0019 | Win/lose count 1.0/4.0 (-3.0)\n",
      "Epoch 034/050 | Loss 0.0003 | Win/lose count 1.5/4.0 (-2.5)\n",
      "Epoch 035/050 | Loss 0.0105 | Win/lose count 0.5/3.0 (-2.5)\n",
      "Epoch 036/050 | Loss 0.0077 | Win/lose count 1.0/3.0 (-2.0)\n",
      "Epoch 037/050 | Loss 0.0080 | Win/lose count 2.5/3.0 (-0.5)\n",
      "Epoch 038/050 | Loss 0.0106 | Win/lose count 3.5/1.0 (2.5)\n",
      "Epoch 039/050 | Loss 0.0001 | Win/lose count 0.5/1.0 (-0.5)\n",
      "Epoch 040/050 | Loss 0.0156 | Win/lose count 0.5/3.0 (-2.5)\n",
      "Epoch 041/050 | Loss 0.0000 | Win/lose count 0.5/3.0 (-2.5)\n",
      "Epoch 042/050 | Loss 0.0079 | Win/lose count 2.0/0 (2.0)\n",
      "Epoch 043/050 | Loss 0.0002 | Win/lose count 2.0/1.0 (1.0)\n",
      "Epoch 044/050 | Loss 0.0000 | Win/lose count 1.5/1.0 (0.5)\n",
      "Epoch 045/050 | Loss 0.0022 | Win/lose count 2.5/3.0 (-0.5)\n",
      "Epoch 046/050 | Loss 0.0003 | Win/lose count 3.0/0 (3.0)\n",
      "Epoch 047/050 | Loss 0.0195 | Win/lose count 1.5/0 (1.5)\n",
      "Epoch 048/050 | Loss 0.0262 | Win/lose count 2.0/0 (2.0)\n",
      "Epoch 049/050 | Loss 0.0253 | Win/lose count 1.0/2.0 (-1.0)\n"
     ]
    },
    {
     "data": {
      "text/html": [
       "<video alt=\"test\" controls>\n",
       "                <source src=\"data:video/mp4;base64,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\" type=\"video/mp4\" />\n",
       "             </video>"
      ],
      "text/plain": [
       "<IPython.core.display.HTML object>"
      ]
     },
     "execution_count": 13,
     "metadata": {},
     "output_type": "execute_result"
    }
   ],
   "source": [
    "epochs_train = 50\n",
    "env = Environment(grid_size=size, max_time=T, temperature=0.3)\n",
    "agent = DQN_CNN(size, lr=.1, epsilon = 0.1, memory_size=2000, batch_size = 32)\n",
    "train(agent,env,epochs_train,prefix='cnn_train')\n",
    "HTML(display_videos('cnn_train10.mp4'))"
   ]
  },
  {
   "cell_type": "markdown",
   "metadata": {},
   "source": [
    "***\n",
    "***\n",
    "__Question 9__ Test both algorithms and compare their performances. Which issue(s) do you observe? Observe also different behaviors by changing the temperature."
   ]
  },
  {
   "cell_type": "code",
   "execution_count": null,
   "metadata": {},
   "outputs": [],
   "source": [
    "env = Environment(grid_size=size, max_time=T,temperature=0.3)\n",
    "agent_cnn = DQN_CNN(size, lr=.1, epsilon = 0.1, memory_size=2000, batch_size = 32)\n",
    "agent_cnn.load(name_weights='cnn_trainmodel.h5',name_model='cnn_trainmodel.json')\n",
    "\n",
    "agent_fc = DQN_FC(size, lr=.1, epsilon = 0.1, memory_size=2000, batch_size = 32)\n",
    "agent_fc.load(name_weights='fc_trainmodel.h5',name_model='fc_trainmodel.json')\n",
    "print('Test of the CNN')\n",
    "test(agent_cnn,env,epochs_test,prefix='cnn_test')\n",
    "print('Test of the FC')\n",
    "test(agent_fc,env,epochs_test,prefix='fc_test')"
   ]
  },
  {
   "cell_type": "code",
   "execution_count": null,
   "metadata": {
    "collapsed": true
   },
   "outputs": [],
   "source": [
    "HTML(display_videos('cnn_test10.mp4'))"
   ]
  },
  {
   "cell_type": "code",
   "execution_count": null,
   "metadata": {
    "collapsed": true
   },
   "outputs": [],
   "source": [
    "HTML(display_videos('fc_test10.mp4'))"
   ]
  },
  {
   "cell_type": "markdown",
   "metadata": {},
   "source": []
  },
  {
   "cell_type": "markdown",
   "metadata": {},
   "source": [
    "***\n",
    "\n",
    "The algorithm tends to not explore the map which can be an issue. We propose two ideas in order to encourage exploration:\n",
    "1. Incorporating a decreasing $\\epsilon$-greedy exploration. You can use the method ```set_epsilon```\n",
    "2. Append via the environment a new state that describes if a cell has been visited or not\n",
    "\n",
    "***\n",
    "__Question 10__ Design a new ```train_explore``` function and environment class ```EnvironmentExploring``` to tackle the issue of exploration.\n",
    "\n"
   ]
  },
  {
   "cell_type": "code",
   "execution_count": 21,
   "metadata": {},
   "outputs": [],
   "source": [
    "def train_explore(agent,env,epoch,decay_parameter_epsilon=0.3,prefix=''):\n",
    "\n",
    "    score = 0\n",
    "    loss = 0\n",
    "\n",
    "    for e in range(epoch):\n",
    "        # At each epoch, we restart to a fresh game and get the initial state\n",
    "        state = env.reset()\n",
    "        # This assumes that the games will terminate\n",
    "        game_over = False\n",
    "\n",
    "        win = 0\n",
    "        lose = 0\n",
    "        agent.set_epsilon(agent.epsilon*(1-decay_parameter_epsilon))\n",
    "        while not game_over:\n",
    "            # The agent performs an action\n",
    "            action = agent.act(state)\n",
    "\n",
    "            # Apply an action to the environment, get the next state, the reward\n",
    "            # and if the games end\n",
    "            prev_state = state\n",
    "            state, reward, game_over = env.act(action, train=True)\n",
    "\n",
    "            # Update the counters\n",
    "            if reward > 0:\n",
    "                win = win + reward\n",
    "            if reward < 0:\n",
    "                lose = lose -reward\n",
    "\n",
    "            # Apply the reinforcement strategy\n",
    "            loss = agent.reinforce(prev_state, state,  action, reward, game_over)\n",
    "\n",
    "        # Save as a mp4\n",
    "        if e % 10 == 0:\n",
    "            env.draw(prefix+str(e))\n",
    "\n",
    "        # Update stats\n",
    "        score += win-lose\n",
    "\n",
    "        print(\"Epoch {:03d}/{:03d} | Loss {:.4f} | Win/lose count {}/{} ({})\"\n",
    "              .format(e, epoch, loss, win, lose, win-lose))\n",
    "        agent.save(name_weights=prefix+'model.h5',name_model=prefix+'model.json')\n",
    "              \n",
    "class EnvironmentExploring(object):\n",
    "    def __init__(self, grid_size=10, max_time=500, temperature=0.1):\n",
    "        grid_size = grid_size+4\n",
    "        self.grid_size = grid_size\n",
    "        self.max_time = max_time\n",
    "        self.temperature = temperature\n",
    "\n",
    "        #board on which one plays\n",
    "        self.board = np.zeros((grid_size,grid_size))\n",
    "        self.position = np.zeros((grid_size,grid_size))\n",
    "        self.malus_position = np.zeros((grid_size,grid_size)) #define maluses when going to a previously visited position\n",
    "        # coordinate of the cat\n",
    "        self.x = 0\n",
    "        self.y = 1\n",
    "\n",
    "        # self time\n",
    "        self.t = 0\n",
    "\n",
    "        self.scale=16\n",
    "\n",
    "        self.to_draw = np.zeros((max_time+2, grid_size*self.scale, grid_size*self.scale, 3))\n",
    "\n",
    "\n",
    "    def draw(self,e):\n",
    "        skvideo.io.vwrite(str(e) + '.mp4', self.to_draw)\n",
    "\n",
    "    def get_frame(self,t):\n",
    "        b = np.zeros((self.grid_size,self.grid_size,3))+128\n",
    "        b[self.board>0,0] = 256\n",
    "        b[self.board < 0, 2] = 256\n",
    "        b[self.x,self.y,:]=256\n",
    "        b[-2:,:,:]=0\n",
    "        b[:,-2:,:]=0\n",
    "        b[:2,:,:]=0\n",
    "        b[:,:2,:]=0\n",
    "        \n",
    "        b =  cv2.resize(b, None, fx=self.scale, fy=self.scale, interpolation=cv2.INTER_NEAREST)\n",
    "\n",
    "        self.to_draw[t,:,:,:]=b\n",
    "\n",
    "\n",
    "    def act(self, action,train=False):\n",
    "        \"\"\"This function returns the new state, reward and decides if the\n",
    "        game ends.\"\"\"\n",
    "        self.get_frame(int(self.t))\n",
    "\n",
    "        self.position = np.zeros((self.grid_size, self.grid_size))\n",
    "\n",
    "        self.position[0:2,:]= -1\n",
    "        self.position[:,0:2] = -1\n",
    "        self.position[-2:, :] = -1\n",
    "        self.position[:, -2:] = -1\n",
    "\n",
    "        self.position[self.x, self.y] = 1\n",
    "        if action == 0:\n",
    "            if self.x == self.grid_size-3:\n",
    "                self.x = self.x-1\n",
    "            else:\n",
    "                self.x = self.x + 1\n",
    "        elif action == 1:\n",
    "            if self.x == 2:\n",
    "                self.x = self.x+1\n",
    "            else:\n",
    "                self.x = self.x-1\n",
    "        elif action == 2:\n",
    "            if self.y == self.grid_size - 3:\n",
    "                self.y = self.y - 1\n",
    "            else:\n",
    "                self.y = self.y + 1\n",
    "        elif action == 3:\n",
    "            if self.y == 2:\n",
    "                self.y = self.y + 1\n",
    "            else:\n",
    "                self.y = self.y - 1\n",
    "        else:\n",
    "            RuntimeError('Error: action not recognized')\n",
    "\n",
    "        self.t = self.t + 1     \n",
    "        \n",
    "        reward = 0\n",
    "        if train:\n",
    "            reward = -self.malus_position[self.x, self.y]\n",
    "        self.malus_position[self.x, self.y] = 0.1\n",
    "\n",
    "        reward = reward + self.board[self.x, self.y]\n",
    "        self.board[self.x, self.y] = 0\n",
    "        game_over = self.t > self.max_time\n",
    "\n",
    "        state = np.concatenate((self.malus_position.reshape(self.grid_size, self.grid_size,1),\n",
    "                                        self.board.reshape(self.grid_size, self.grid_size,1),\n",
    "                                self.position.reshape(self.grid_size, self.grid_size,1)),axis=2)\n",
    "        state = state[self.x-2:self.x+3,self.y-2:self.y+3,:]\n",
    "\n",
    "        return state, reward, game_over\n",
    "    def reset(self):\n",
    "        \"\"\"This function resets the game and returns the initial state\"\"\"\n",
    "\n",
    "        self.x = np.random.randint(3, self.grid_size-3, size=1)[0]\n",
    "        self.y = np.random.randint(3, self.grid_size-3, size=1)[0]\n",
    "\n",
    "\n",
    "        bonus = 0.5*np.random.binomial(1,self.temperature,size=self.grid_size**2)\n",
    "        bonus = bonus.reshape(self.grid_size,self.grid_size)\n",
    "\n",
    "        malus = -1.0*np.random.binomial(1,self.temperature,size=self.grid_size**2)\n",
    "        malus = malus.reshape(self.grid_size, self.grid_size)\n",
    "\n",
    "        self.to_draw = np.zeros((self.max_time+2, self.grid_size*self.scale, self.grid_size*self.scale, 3))\n",
    "\n",
    "\n",
    "        malus[bonus>0]=0\n",
    "\n",
    "        self.board = bonus + malus\n",
    "\n",
    "        self.position = np.zeros((self.grid_size, self.grid_size))\n",
    "        self.position[0:2,:]= -1\n",
    "        self.position[:,0:2] = -1\n",
    "        self.position[-2:, :] = -1\n",
    "        self.position[:,-2:] = -1\n",
    "        self.board[self.x,self.y] = 0\n",
    "        self.t = 0\n",
    "\n",
    "        self.malus_position = np.zeros((self.grid_size, self.grid_size))\n",
    "\n",
    "        state = np.concatenate((self.malus_position.reshape(self.grid_size, self.grid_size,1),\n",
    "                                        self.board.reshape(self.grid_size, self.grid_size,1),\n",
    "                                self.position.reshape(self.grid_size, self.grid_size,1)),axis=2)\n",
    "\n",
    "        state = state[self.x - 2:self.x + 3, self.y - 2:self.y + 3, :]\n",
    "        return state"
   ]
  },
  {
   "cell_type": "code",
   "execution_count": 22,
   "metadata": {},
   "outputs": [
    {
     "name": "stdout",
     "output_type": "stream",
     "text": [
      "Epoch 000/050 | Loss 0.0270 | Win/lose count 0.5/23.300000000000054 (-22.800000000000054)\n",
      "Epoch 001/050 | Loss 0.0350 | Win/lose count 2.0/19.300000000000004 (-17.300000000000004)\n",
      "Epoch 002/050 | Loss 0.2655 | Win/lose count 0/20.500000000000025 (-20.500000000000025)\n",
      "Epoch 003/050 | Loss 0.0024 | Win/lose count 0/19.80000000000001 (-19.80000000000001)\n",
      "Epoch 004/050 | Loss 0.2616 | Win/lose count 0/20.700000000000028 (-20.700000000000028)\n",
      "Epoch 005/050 | Loss 0.0003 | Win/lose count 1.0/20.700000000000028 (-19.700000000000028)\n",
      "Epoch 006/050 | Loss 0.0003 | Win/lose count 0.5/20.80000000000003 (-20.30000000000003)\n",
      "Epoch 007/050 | Loss 0.0011 | Win/lose count 0/20.90000000000003 (-20.90000000000003)\n",
      "Epoch 008/050 | Loss 0.0001 | Win/lose count 0/21.80000000000003 (-21.80000000000003)\n",
      "Epoch 009/050 | Loss 0.0003 | Win/lose count 0/20.000000000000014 (-20.000000000000014)\n",
      "Epoch 010/050 | Loss 0.0002 | Win/lose count 0/20.000000000000014 (-20.000000000000014)\n",
      "Epoch 011/050 | Loss 0.0041 | Win/lose count 0/20.000000000000014 (-20.000000000000014)\n",
      "Epoch 012/050 | Loss 0.2584 | Win/lose count 0/20.000000000000014 (-20.000000000000014)\n",
      "Epoch 013/050 | Loss 0.0037 | Win/lose count 0/20.000000000000014 (-20.000000000000014)\n",
      "Epoch 014/050 | Loss 0.0008 | Win/lose count 0/20.000000000000014 (-20.000000000000014)\n",
      "Epoch 015/050 | Loss 0.0017 | Win/lose count 0/20.000000000000014 (-20.000000000000014)\n",
      "Epoch 016/050 | Loss 0.0002 | Win/lose count 0/20.000000000000014 (-20.000000000000014)\n",
      "Epoch 017/050 | Loss 0.0000 | Win/lose count 0/20.000000000000014 (-20.000000000000014)\n",
      "Epoch 018/050 | Loss 0.0028 | Win/lose count 0/20.000000000000014 (-20.000000000000014)\n",
      "Epoch 019/050 | Loss 0.0003 | Win/lose count 0/20.000000000000014 (-20.000000000000014)\n",
      "Epoch 020/050 | Loss 0.0010 | Win/lose count 0/20.000000000000014 (-20.000000000000014)\n",
      "Epoch 021/050 | Loss 0.0009 | Win/lose count 0/20.000000000000014 (-20.000000000000014)\n",
      "Epoch 022/050 | Loss 0.0018 | Win/lose count 0/20.000000000000014 (-20.000000000000014)\n",
      "Epoch 023/050 | Loss 0.0000 | Win/lose count 0/20.000000000000014 (-20.000000000000014)\n",
      "Epoch 024/050 | Loss 0.0010 | Win/lose count 0/20.000000000000014 (-20.000000000000014)\n",
      "Epoch 025/050 | Loss 0.2587 | Win/lose count 0/20.000000000000014 (-20.000000000000014)\n",
      "Epoch 026/050 | Loss 0.0002 | Win/lose count 0/20.000000000000014 (-20.000000000000014)\n",
      "Epoch 027/050 | Loss 0.0001 | Win/lose count 0/20.000000000000014 (-20.000000000000014)\n",
      "Epoch 028/050 | Loss 0.5298 | Win/lose count 0/20.000000000000014 (-20.000000000000014)\n",
      "Epoch 029/050 | Loss 0.0002 | Win/lose count 0/20.000000000000014 (-20.000000000000014)\n",
      "Epoch 030/050 | Loss 0.0012 | Win/lose count 0/20.000000000000014 (-20.000000000000014)\n",
      "Epoch 031/050 | Loss 0.0013 | Win/lose count 0/20.000000000000014 (-20.000000000000014)\n",
      "Epoch 032/050 | Loss 0.0010 | Win/lose count 0/20.000000000000014 (-20.000000000000014)\n",
      "Epoch 033/050 | Loss 0.0006 | Win/lose count 0/20.000000000000014 (-20.000000000000014)\n",
      "Epoch 034/050 | Loss 0.0017 | Win/lose count 0/20.000000000000014 (-20.000000000000014)\n",
      "Epoch 035/050 | Loss 0.0002 | Win/lose count 0/20.000000000000014 (-20.000000000000014)\n",
      "Epoch 036/050 | Loss 0.0001 | Win/lose count 0/20.000000000000014 (-20.000000000000014)\n",
      "Epoch 037/050 | Loss 0.0019 | Win/lose count 0/20.000000000000014 (-20.000000000000014)\n",
      "Epoch 038/050 | Loss 0.0026 | Win/lose count 0/20.000000000000014 (-20.000000000000014)\n",
      "Epoch 039/050 | Loss 0.0001 | Win/lose count 0/20.000000000000014 (-20.000000000000014)\n",
      "Epoch 040/050 | Loss 0.0000 | Win/lose count 0/20.000000000000014 (-20.000000000000014)\n",
      "Epoch 041/050 | Loss 0.0010 | Win/lose count 0/20.000000000000014 (-20.000000000000014)\n",
      "Epoch 042/050 | Loss 0.0006 | Win/lose count 0/20.000000000000014 (-20.000000000000014)\n",
      "Epoch 043/050 | Loss 0.0000 | Win/lose count 0/20.000000000000014 (-20.000000000000014)\n",
      "Epoch 044/050 | Loss 0.0000 | Win/lose count 0/20.000000000000014 (-20.000000000000014)\n",
      "Epoch 045/050 | Loss 0.0000 | Win/lose count 0/20.000000000000014 (-20.000000000000014)\n",
      "Epoch 046/050 | Loss 0.0000 | Win/lose count 0/20.000000000000014 (-20.000000000000014)\n",
      "Epoch 047/050 | Loss 0.0001 | Win/lose count 0/20.000000000000014 (-20.000000000000014)\n",
      "Epoch 048/050 | Loss 0.0004 | Win/lose count 0/20.000000000000014 (-20.000000000000014)\n",
      "Epoch 049/050 | Loss 0.0005 | Win/lose count 0/20.000000000000014 (-20.000000000000014)\n"
     ]
    },
    {
     "data": {
      "text/html": [
       "<video alt=\"test\" controls>\n",
       "                <source src=\"data:video/mp4;base64,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\" type=\"video/mp4\" />\n",
       "             </video>"
      ],
      "text/plain": [
       "<IPython.core.display.HTML object>"
      ]
     },
     "execution_count": 22,
     "metadata": {},
     "output_type": "execute_result"
    }
   ],
   "source": [
    "# Training\n",
    "env = EnvironmentExploring(grid_size=size, max_time=T, temperature=0.3)\n",
    "agent = DQN_CNN(size, lr=.1, epsilon = 0.1, memory_size=2000, batch_size = 32,n_state=3)\n",
    "train_explore(agent, env, epochs_train, prefix='cnn_train_explore')\n",
    "HTML(display_videos('cnn_train_explore10.mp4'))"
   ]
  },
  {
   "cell_type": "code",
   "execution_count": 29,
   "metadata": {},
   "outputs": [],
   "source": [
    "# Evaluation\n",
    "test(agent,env,epochs_test,prefix='cnn_test_explore')\n",
    "HTML(display_videos('cnn_test_explore9.mp4'))"
   ]
  },
  {
   "cell_type": "markdown",
   "metadata": {},
   "source": [
    "***\n",
    "***\n",
    "__BONUS question__ Use the expert DQN from the previous question to generate some winning games. Train a model that mimicks its behavior. Compare the performances."
   ]
  },
  {
   "cell_type": "markdown",
   "metadata": {},
   "source": []
  },
  {
   "cell_type": "markdown",
   "metadata": {},
   "source": [
    "***"
   ]
  }
 ],
 "metadata": {
  "kernelspec": {
   "display_name": "Python 3",
   "language": "python",
   "name": "python3"
  },
  "language_info": {
   "codemirror_mode": {
    "name": "ipython",
    "version": 3
   },
   "file_extension": ".py",
   "mimetype": "text/x-python",
   "name": "python",
   "nbconvert_exporter": "python",
   "pygments_lexer": "ipython3",
   "version": "3.6.8"
  }
 },
 "nbformat": 4,
 "nbformat_minor": 2
}
